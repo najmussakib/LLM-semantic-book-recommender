{
 "cells": [
  {
   "metadata": {},
   "cell_type": "markdown",
   "source": [
    "### We will classify the text into 7 discreet categories (Sentiment Analysis and TEXT_CLASSIFICATION) using a fine-tuned LLM (DistillROBERTA) from HF\n",
    "-  Categories:\n",
    "    - `anger` `disgust` `fear` `joy` `sadness` `surprise` `neutral`"
   ],
   "id": "b51ddf4e68c3e1eb"
  },
  {
   "metadata": {
    "ExecuteTime": {
     "end_time": "2025-04-29T08:28:40.337033Z",
     "start_time": "2025-04-29T08:28:33.892103Z"
    }
   },
   "cell_type": "code",
   "source": [
    "import pandas as pd\n",
    "\n",
    "books = pd.read_csv('books_with_categories.csv')"
   ],
   "id": "f62d8fb03df93b93",
   "outputs": [],
   "execution_count": 1
  },
  {
   "metadata": {
    "ExecuteTime": {
     "end_time": "2025-04-29T09:09:19.701134Z",
     "start_time": "2025-04-29T09:09:19.037867Z"
    }
   },
   "cell_type": "code",
   "source": [
    "from transformers import pipeline\n",
    "\n",
    "classifier = pipeline(\"text-classification\",\n",
    "                      model = \"j-hartmann/emotion-english-distilroberta-base\",\n",
    "                      top_k = None,\n",
    "                      device = \"cuda\")\n",
    "\n",
    "classifier(\"I love this!\")"
   ],
   "id": "828728d633ba054f",
   "outputs": [
    {
     "name": "stderr",
     "output_type": "stream",
     "text": [
      "Device set to use cuda\n"
     ]
    },
    {
     "data": {
      "text/plain": [
       "[[{'label': 'joy', 'score': 0.9771687984466553},\n",
       "  {'label': 'surprise', 'score': 0.008528688922524452},\n",
       "  {'label': 'neutral', 'score': 0.0057645998895168304},\n",
       "  {'label': 'anger', 'score': 0.004419785924255848},\n",
       "  {'label': 'sadness', 'score': 0.002092393347993493},\n",
       "  {'label': 'disgust', 'score': 0.0016119939973577857},\n",
       "  {'label': 'fear', 'score': 0.0004138521908316761}]]"
      ]
     },
     "execution_count": 3,
     "metadata": {},
     "output_type": "execute_result"
    },
    {
     "name": "stderr",
     "output_type": "stream",
     "text": [
      "Xet Storage is enabled for this repo, but the 'hf_xet' package is not installed. Falling back to regular HTTP download. For better performance, install the package with: `pip install huggingface_hub[hf_xet]` or `pip install hf_xet`\n"
     ]
    }
   ],
   "execution_count": 3
  },
  {
   "metadata": {},
   "cell_type": "code",
   "outputs": [],
   "execution_count": null,
   "source": "",
   "id": "2b5f00709ad053cb"
  },
  {
   "metadata": {},
   "cell_type": "markdown",
   "source": "- We have a choice get the sentiment of a whole description or break it down into sentences and get sentiment of each sentence.",
   "id": "3d9d6bc9a23b18fb"
  },
  {
   "metadata": {
    "ExecuteTime": {
     "end_time": "2025-04-29T09:21:39.375237Z",
     "start_time": "2025-04-29T09:21:39.368872Z"
    }
   },
   "cell_type": "code",
   "source": "books[\"description\"][0]",
   "id": "e34e9fb42a426c93",
   "outputs": [
    {
     "data": {
      "text/plain": [
       "'A NOVEL THAT READERS and critics have been eagerly anticipating for over a decade, Gilead is an astonishingly imagined story of remarkable lives. John Ames is a preacher, the son of a preacher and the grandson (both maternal and paternal) of preachers. It’s 1956 in Gilead, Iowa, towards the end of the Reverend Ames’s life, and he is absorbed in recording his family’s story, a legacy for the young son he will never see grow up. Haunted by his grandfather’s presence, John tells of the rift between his grandfather and his father: the elder, an angry visionary who fought for the abolitionist cause, and his son, an ardent pacifist. He is troubled, too, by his prodigal namesake, Jack (John Ames) Boughton, his best friend’s lost son who returns to Gilead searching for forgiveness and redemption. Told in John Ames’s joyous, rambling voice that finds beauty, humour and truth in the smallest of life’s details, Gilead is a song of celebration and acceptance of the best and the worst the world has to offer. At its heart is a tale of the sacred bonds between fathers and sons, pitch-perfect in style and story, set to dazzle critics and readers alike.'"
      ]
     },
     "execution_count": 4,
     "metadata": {},
     "output_type": "execute_result"
    }
   ],
   "execution_count": 4
  },
  {
   "metadata": {},
   "cell_type": "markdown",
   "source": "- We can see from the ist example running sentiment analysis on a single sentence we may lose information.",
   "id": "85947e19a8dadc19"
  },
  {
   "metadata": {
    "ExecuteTime": {
     "end_time": "2025-04-29T09:24:09.640272Z",
     "start_time": "2025-04-29T09:24:09.426722Z"
    }
   },
   "cell_type": "code",
   "source": [
    "# Prediction on the whole description\n",
    "classifier(books[\"description\"][0])"
   ],
   "id": "d67edcbea6977bdd",
   "outputs": [
    {
     "data": {
      "text/plain": [
       "[[{'label': 'fear', 'score': 0.6548401117324829},\n",
       "  {'label': 'neutral', 'score': 0.16985271871089935},\n",
       "  {'label': 'sadness', 'score': 0.11640920490026474},\n",
       "  {'label': 'surprise', 'score': 0.02070067822933197},\n",
       "  {'label': 'disgust', 'score': 0.019100727513432503},\n",
       "  {'label': 'joy', 'score': 0.015161407180130482},\n",
       "  {'label': 'anger', 'score': 0.003935148939490318}]]"
      ]
     },
     "execution_count": 5,
     "metadata": {},
     "output_type": "execute_result"
    }
   ],
   "execution_count": 5
  },
  {
   "metadata": {},
   "cell_type": "markdown",
   "source": [
    "- The prediction comes out to be `fearfull` but looking at the description above eg in line *Told in John Ames’s joyous, rambling voice that finds beauty, humour and truth in the smallest of life’s details*, it doesn't sound `fearful` but `joyous`.\n",
    "- The correct way seems to be to break down the description into individual sentences and classfiy on that basis."
   ],
   "id": "6654eebe05d7bf1"
  },
  {
   "metadata": {
    "ExecuteTime": {
     "end_time": "2025-04-29T09:32:16.059278Z",
     "start_time": "2025-04-29T09:32:15.811012Z"
    }
   },
   "cell_type": "code",
   "source": "classifier(books[\"description\"][0].split(\".\"))  # Infer each sentence",
   "id": "562702c02a048b2a",
   "outputs": [
    {
     "data": {
      "text/plain": [
       "[[{'label': 'surprise', 'score': 0.7296029329299927},\n",
       "  {'label': 'neutral', 'score': 0.14038559794425964},\n",
       "  {'label': 'fear', 'score': 0.06816216558218002},\n",
       "  {'label': 'joy', 'score': 0.04794234409928322},\n",
       "  {'label': 'anger', 'score': 0.009156346321105957},\n",
       "  {'label': 'disgust', 'score': 0.0026284747291356325},\n",
       "  {'label': 'sadness', 'score': 0.0021221598144620657}],\n",
       " [{'label': 'neutral', 'score': 0.44937023520469666},\n",
       "  {'label': 'disgust', 'score': 0.27359238266944885},\n",
       "  {'label': 'joy', 'score': 0.10908287763595581},\n",
       "  {'label': 'sadness', 'score': 0.09362705796957016},\n",
       "  {'label': 'anger', 'score': 0.040478311479091644},\n",
       "  {'label': 'surprise', 'score': 0.026970146223902702},\n",
       "  {'label': 'fear', 'score': 0.006879040505737066}],\n",
       " [{'label': 'neutral', 'score': 0.6462163925170898},\n",
       "  {'label': 'sadness', 'score': 0.24273303151130676},\n",
       "  {'label': 'disgust', 'score': 0.04342260584235191},\n",
       "  {'label': 'surprise', 'score': 0.02830052748322487},\n",
       "  {'label': 'joy', 'score': 0.014211488887667656},\n",
       "  {'label': 'fear', 'score': 0.014084086753427982},\n",
       "  {'label': 'anger', 'score': 0.011031883768737316}],\n",
       " [{'label': 'fear', 'score': 0.928168535232544},\n",
       "  {'label': 'anger', 'score': 0.03219063952565193},\n",
       "  {'label': 'neutral', 'score': 0.012808633036911488},\n",
       "  {'label': 'sadness', 'score': 0.008756852708756924},\n",
       "  {'label': 'surprise', 'score': 0.008597886189818382},\n",
       "  {'label': 'disgust', 'score': 0.008431801572442055},\n",
       "  {'label': 'joy', 'score': 0.001045580138452351}],\n",
       " [{'label': 'sadness', 'score': 0.9671575427055359},\n",
       "  {'label': 'neutral', 'score': 0.015104148536920547},\n",
       "  {'label': 'disgust', 'score': 0.006480589509010315},\n",
       "  {'label': 'fear', 'score': 0.005393990781158209},\n",
       "  {'label': 'surprise', 'score': 0.0022869440726935863},\n",
       "  {'label': 'anger', 'score': 0.0018428886542096734},\n",
       "  {'label': 'joy', 'score': 0.0017338789766654372}],\n",
       " [{'label': 'joy', 'score': 0.9327976107597351},\n",
       "  {'label': 'disgust', 'score': 0.03771749511361122},\n",
       "  {'label': 'neutral', 'score': 0.015891902148723602},\n",
       "  {'label': 'sadness', 'score': 0.0064445240423083305},\n",
       "  {'label': 'anger', 'score': 0.00502500357106328},\n",
       "  {'label': 'surprise', 'score': 0.0015812080819159746},\n",
       "  {'label': 'fear', 'score': 0.0005423084367066622}],\n",
       " [{'label': 'joy', 'score': 0.6528705954551697},\n",
       "  {'label': 'neutral', 'score': 0.254274845123291},\n",
       "  {'label': 'surprise', 'score': 0.0680830180644989},\n",
       "  {'label': 'sadness', 'score': 0.009908996522426605},\n",
       "  {'label': 'disgust', 'score': 0.006512211635708809},\n",
       "  {'label': 'anger', 'score': 0.004821311682462692},\n",
       "  {'label': 'fear', 'score': 0.0035290196537971497}],\n",
       " [{'label': 'neutral', 'score': 0.5494765639305115},\n",
       "  {'label': 'sadness', 'score': 0.1116902083158493},\n",
       "  {'label': 'disgust', 'score': 0.10400671511888504},\n",
       "  {'label': 'surprise', 'score': 0.07876555621623993},\n",
       "  {'label': 'anger', 'score': 0.0641336739063263},\n",
       "  {'label': 'fear', 'score': 0.051362842321395874},\n",
       "  {'label': 'joy', 'score': 0.040564440190792084}]]"
      ]
     },
     "execution_count": 6,
     "metadata": {},
     "output_type": "execute_result"
    }
   ],
   "execution_count": 6
  },
  {
   "metadata": {},
   "cell_type": "markdown",
   "source": "- We can see a lot of varieties of emotions per sentence therefore a true representation of the whole description.",
   "id": "3eef1372a0b84772"
  },
  {
   "metadata": {
    "ExecuteTime": {
     "end_time": "2025-04-29T09:39:05.032687Z",
     "start_time": "2025-04-29T09:39:04.779093Z"
    }
   },
   "cell_type": "code",
   "source": [
    "# Let's see for an example sentence which class has higher probs, to have a better view\n",
    "sentences = books[\"description\"][0].split(\".\")\n",
    "predictions = classifier(sentences)\n"
   ],
   "id": "7c4cc266ed8fa7cd",
   "outputs": [],
   "execution_count": 7
  },
  {
   "metadata": {
    "ExecuteTime": {
     "end_time": "2025-04-29T09:39:11.609228Z",
     "start_time": "2025-04-29T09:39:11.604506Z"
    }
   },
   "cell_type": "code",
   "source": "sentences[0]",
   "id": "f9b9e640a23085c4",
   "outputs": [
    {
     "data": {
      "text/plain": [
       "'A NOVEL THAT READERS and critics have been eagerly anticipating for over a decade, Gilead is an astonishingly imagined story of remarkable lives'"
      ]
     },
     "execution_count": 8,
     "metadata": {},
     "output_type": "execute_result"
    }
   ],
   "execution_count": 8
  },
  {
   "metadata": {
    "ExecuteTime": {
     "end_time": "2025-04-29T09:39:19.026506Z",
     "start_time": "2025-04-29T09:39:19.021134Z"
    }
   },
   "cell_type": "code",
   "source": "predictions[0]",
   "id": "d3843be11a2ff243",
   "outputs": [
    {
     "data": {
      "text/plain": [
       "[{'label': 'surprise', 'score': 0.7296029329299927},\n",
       " {'label': 'neutral', 'score': 0.14038559794425964},\n",
       " {'label': 'fear', 'score': 0.06816216558218002},\n",
       " {'label': 'joy', 'score': 0.04794234409928322},\n",
       " {'label': 'anger', 'score': 0.009156346321105957},\n",
       " {'label': 'disgust', 'score': 0.0026284747291356325},\n",
       " {'label': 'sadness', 'score': 0.0021221598144620657}]"
      ]
     },
     "execution_count": 9,
     "metadata": {},
     "output_type": "execute_result"
    }
   ],
   "execution_count": 9
  },
  {
   "metadata": {
    "ExecuteTime": {
     "end_time": "2025-04-29T09:40:07.599260Z",
     "start_time": "2025-04-29T09:40:07.593940Z"
    }
   },
   "cell_type": "code",
   "source": "sentences[3]",
   "id": "4bccc9f0f88640ad",
   "outputs": [
    {
     "data": {
      "text/plain": [
       "' Haunted by his grandfather’s presence, John tells of the rift between his grandfather and his father: the elder, an angry visionary who fought for the abolitionist cause, and his son, an ardent pacifist'"
      ]
     },
     "execution_count": 10,
     "metadata": {},
     "output_type": "execute_result"
    }
   ],
   "execution_count": 10
  },
  {
   "metadata": {
    "ExecuteTime": {
     "end_time": "2025-04-29T09:40:15.327647Z",
     "start_time": "2025-04-29T09:40:15.322958Z"
    }
   },
   "cell_type": "code",
   "source": "lhpredictions[3]",
   "id": "66e0137eddfaa817",
   "outputs": [
    {
     "data": {
      "text/plain": [
       "[{'label': 'fear', 'score': 0.928168535232544},\n",
       " {'label': 'anger', 'score': 0.03219063952565193},\n",
       " {'label': 'neutral', 'score': 0.012808633036911488},\n",
       " {'label': 'sadness', 'score': 0.008756852708756924},\n",
       " {'label': 'surprise', 'score': 0.008597886189818382},\n",
       " {'label': 'disgust', 'score': 0.008431801572442055},\n",
       " {'label': 'joy', 'score': 0.001045580138452351}]"
      ]
     },
     "execution_count": 11,
     "metadata": {},
     "output_type": "execute_result"
    }
   ],
   "execution_count": 11
  },
  {
   "metadata": {},
   "cell_type": "markdown",
   "source": [
    "- We see now that for each sentence the classifier is giving expected labels based on the tone.\n",
    "- So this also complicates our task, since we have multiple emotions for single books.\n",
    "- To solve this we will add 7 cols to our dataset and for each book take the emotion with the highest probability."
   ],
   "id": "6a37e2b539a0760a"
  },
  {
   "metadata": {
    "ExecuteTime": {
     "end_time": "2025-04-29T09:48:06.850338Z",
     "start_time": "2025-04-29T09:48:06.843334Z"
    }
   },
   "cell_type": "code",
   "source": "predictions",
   "id": "44196df9f185f583",
   "outputs": [
    {
     "data": {
      "text/plain": [
       "[[{'label': 'surprise', 'score': 0.7296029329299927},\n",
       "  {'label': 'neutral', 'score': 0.14038559794425964},\n",
       "  {'label': 'fear', 'score': 0.06816216558218002},\n",
       "  {'label': 'joy', 'score': 0.04794234409928322},\n",
       "  {'label': 'anger', 'score': 0.009156346321105957},\n",
       "  {'label': 'disgust', 'score': 0.0026284747291356325},\n",
       "  {'label': 'sadness', 'score': 0.0021221598144620657}],\n",
       " [{'label': 'neutral', 'score': 0.44937023520469666},\n",
       "  {'label': 'disgust', 'score': 0.27359238266944885},\n",
       "  {'label': 'joy', 'score': 0.10908287763595581},\n",
       "  {'label': 'sadness', 'score': 0.09362705796957016},\n",
       "  {'label': 'anger', 'score': 0.040478311479091644},\n",
       "  {'label': 'surprise', 'score': 0.026970146223902702},\n",
       "  {'label': 'fear', 'score': 0.006879040505737066}],\n",
       " [{'label': 'neutral', 'score': 0.6462163925170898},\n",
       "  {'label': 'sadness', 'score': 0.24273303151130676},\n",
       "  {'label': 'disgust', 'score': 0.04342260584235191},\n",
       "  {'label': 'surprise', 'score': 0.02830052748322487},\n",
       "  {'label': 'joy', 'score': 0.014211488887667656},\n",
       "  {'label': 'fear', 'score': 0.014084086753427982},\n",
       "  {'label': 'anger', 'score': 0.011031883768737316}],\n",
       " [{'label': 'fear', 'score': 0.928168535232544},\n",
       "  {'label': 'anger', 'score': 0.03219063952565193},\n",
       "  {'label': 'neutral', 'score': 0.012808633036911488},\n",
       "  {'label': 'sadness', 'score': 0.008756852708756924},\n",
       "  {'label': 'surprise', 'score': 0.008597886189818382},\n",
       "  {'label': 'disgust', 'score': 0.008431801572442055},\n",
       "  {'label': 'joy', 'score': 0.001045580138452351}],\n",
       " [{'label': 'sadness', 'score': 0.9671575427055359},\n",
       "  {'label': 'neutral', 'score': 0.015104148536920547},\n",
       "  {'label': 'disgust', 'score': 0.006480589509010315},\n",
       "  {'label': 'fear', 'score': 0.005393990781158209},\n",
       "  {'label': 'surprise', 'score': 0.0022869440726935863},\n",
       "  {'label': 'anger', 'score': 0.0018428886542096734},\n",
       "  {'label': 'joy', 'score': 0.0017338789766654372}],\n",
       " [{'label': 'joy', 'score': 0.9327976107597351},\n",
       "  {'label': 'disgust', 'score': 0.03771749511361122},\n",
       "  {'label': 'neutral', 'score': 0.015891902148723602},\n",
       "  {'label': 'sadness', 'score': 0.0064445240423083305},\n",
       "  {'label': 'anger', 'score': 0.00502500357106328},\n",
       "  {'label': 'surprise', 'score': 0.0015812080819159746},\n",
       "  {'label': 'fear', 'score': 0.0005423084367066622}],\n",
       " [{'label': 'joy', 'score': 0.6528705954551697},\n",
       "  {'label': 'neutral', 'score': 0.254274845123291},\n",
       "  {'label': 'surprise', 'score': 0.0680830180644989},\n",
       "  {'label': 'sadness', 'score': 0.009908996522426605},\n",
       "  {'label': 'disgust', 'score': 0.006512211635708809},\n",
       "  {'label': 'anger', 'score': 0.004821311682462692},\n",
       "  {'label': 'fear', 'score': 0.0035290196537971497}],\n",
       " [{'label': 'neutral', 'score': 0.5494765639305115},\n",
       "  {'label': 'sadness', 'score': 0.1116902083158493},\n",
       "  {'label': 'disgust', 'score': 0.10400671511888504},\n",
       "  {'label': 'surprise', 'score': 0.07876555621623993},\n",
       "  {'label': 'anger', 'score': 0.0641336739063263},\n",
       "  {'label': 'fear', 'score': 0.051362842321395874},\n",
       "  {'label': 'joy', 'score': 0.040564440190792084}]]"
      ]
     },
     "execution_count": 12,
     "metadata": {},
     "output_type": "execute_result"
    }
   ],
   "execution_count": 12
  },
  {
   "metadata": {
    "ExecuteTime": {
     "end_time": "2025-04-29T10:04:20.321723Z",
     "start_time": "2025-04-29T10:04:20.317039Z"
    }
   },
   "cell_type": "code",
   "source": [
    "# Sort labels in decreasing order by emotion prob scores\n",
    "sorted(predictions[0], key = lambda x: x[\"label\"])"
   ],
   "id": "e1f7c3874f7a6da5",
   "outputs": [
    {
     "data": {
      "text/plain": [
       "[{'label': 'anger', 'score': 0.009156346321105957},\n",
       " {'label': 'disgust', 'score': 0.0026284747291356325},\n",
       " {'label': 'fear', 'score': 0.06816216558218002},\n",
       " {'label': 'joy', 'score': 0.04794234409928322},\n",
       " {'label': 'neutral', 'score': 0.14038559794425964},\n",
       " {'label': 'sadness', 'score': 0.0021221598144620657},\n",
       " {'label': 'surprise', 'score': 0.7296029329299927}]"
      ]
     },
     "execution_count": 14,
     "metadata": {},
     "output_type": "execute_result"
    }
   ],
   "execution_count": 14
  },
  {
   "metadata": {
    "ExecuteTime": {
     "end_time": "2025-04-29T10:30:22.620040Z",
     "start_time": "2025-04-29T10:30:22.614646Z"
    }
   },
   "cell_type": "code",
   "source": [
    "import  numpy as np\n",
    "\n",
    "emotion_labels = [\"anger\", \"disgust\", \"fear\", \"joy\", \"sadness\", \"surprise\", \"neutral\"] # cols of new df\n",
    "isbn = [] # key for merging to df\n",
    "emotions_scores = {label: [] for label in emotion_labels}    # Extract all scores for every desc. for each label\n",
    "\n",
    "def calculate_max_emotion_score(predictions):\n",
    "    \"\"\" Extract maximum emotion probability: for each emotion, for each description\n",
    "\n",
    "    :param predictions:\n",
    "    :return: dict: maximum emotion probability\n",
    "    \"\"\"\n",
    "\n",
    "    # Extract all predictions for a single description\n",
    "    per_emotion_scores = {label: [] for label in emotion_labels}\n",
    "\n",
    "    for prediction in predictions:\n",
    "        sorted_predictions = sorted(prediction, key = lambda x: x[\"label\"])\n",
    "        for index, label in enumerate(emotion_labels):\n",
    "            per_emotion_scores[label].append(sorted_predictions[index][\"score\"])\n",
    "    return  {label: np.max(scores) for label, scores in per_emotion_scores.items()}"
   ],
   "id": "b11ebd87f61c95cc",
   "outputs": [],
   "execution_count": 21
  },
  {
   "metadata": {},
   "cell_type": "markdown",
   "source": "- Now for each desc. we have a dictionary containing the max prob. for each of the diff. emotion labels",
   "id": "c1c7f9255b421711"
  },
  {
   "metadata": {
    "ExecuteTime": {
     "end_time": "2025-04-29T10:30:24.546795Z",
     "start_time": "2025-04-29T10:30:23.911529Z"
    }
   },
   "cell_type": "code",
   "source": [
    "for i in range(10):\n",
    "    isbn.append(books[\"isbn13\"][i])  # add individual isbns of each book to the list\n",
    "    sentences = books[\"description\"][i].split(\".\")  # Split descs. into sentences\n",
    "    predictions = classifier(sentences)\n",
    "    max_scores = calculate_max_emotion_score(predictions)\n",
    "\n",
    "    for label in emotion_labels:\n",
    "        emotions_scores[label].append(max_scores[label])"
   ],
   "id": "854d7f3ba1a44ee",
   "outputs": [
    {
     "name": "stderr",
     "output_type": "stream",
     "text": [
      "You seem to be using the pipelines sequentially on GPU. In order to maximize efficiency please use a dataset\n"
     ]
    }
   ],
   "execution_count": 22
  },
  {
   "metadata": {},
   "cell_type": "markdown",
   "source": "- We will now have a dict which will be the basis of our new df containing 7 diff cols with max prob's corresponding to each individual book",
   "id": "ef4cf5c247ceb9e"
  },
  {
   "metadata": {
    "ExecuteTime": {
     "end_time": "2025-04-29T10:33:22.774147Z",
     "start_time": "2025-04-29T10:33:22.768967Z"
    }
   },
   "cell_type": "code",
   "source": "emotions_scores",
   "id": "aff8ba6f10bfa09a",
   "outputs": [
    {
     "data": {
      "text/plain": [
       "{'anger': [np.float64(0.0641336739063263),\n",
       "  np.float64(0.6126186847686768),\n",
       "  np.float64(0.0641336739063263),\n",
       "  np.float64(0.35148343443870544),\n",
       "  np.float64(0.08141246438026428),\n",
       "  np.float64(0.23222483694553375),\n",
       "  np.float64(0.5381841063499451),\n",
       "  np.float64(0.0641336739063263),\n",
       "  np.float64(0.30066993832588196),\n",
       "  np.float64(0.0641336739063263)],\n",
       " 'disgust': [np.float64(0.27359238266944885),\n",
       "  np.float64(0.34828537702560425),\n",
       "  np.float64(0.10400671511888504),\n",
       "  np.float64(0.1507224440574646),\n",
       "  np.float64(0.18449558317661285),\n",
       "  np.float64(0.7271748185157776),\n",
       "  np.float64(0.1558550000190735),\n",
       "  np.float64(0.10400671511888504),\n",
       "  np.float64(0.2794812023639679),\n",
       "  np.float64(0.1779278963804245)],\n",
       " 'fear': [np.float64(0.928168535232544),\n",
       "  np.float64(0.9425278306007385),\n",
       "  np.float64(0.9723208546638489),\n",
       "  np.float64(0.36070698499679565),\n",
       "  np.float64(0.09504340589046478),\n",
       "  np.float64(0.051362842321395874),\n",
       "  np.float64(0.7474278211593628),\n",
       "  np.float64(0.40449532866477966),\n",
       "  np.float64(0.9155241250991821),\n",
       "  np.float64(0.051362842321395874)],\n",
       " 'joy': [np.float64(0.9327976107597351),\n",
       "  np.float64(0.7044216990470886),\n",
       "  np.float64(0.76723712682724),\n",
       "  np.float64(0.2518812119960785),\n",
       "  np.float64(0.040564440190792084),\n",
       "  np.float64(0.04337584227323532),\n",
       "  np.float64(0.8725654482841492),\n",
       "  np.float64(0.040564440190792084),\n",
       "  np.float64(0.040564440190792084),\n",
       "  np.float64(0.040564440190792084)],\n",
       " 'sadness': [np.float64(0.6462163925170898),\n",
       "  np.float64(0.8879395127296448),\n",
       "  np.float64(0.5494765639305115),\n",
       "  np.float64(0.7326850891113281),\n",
       "  np.float64(0.8843895196914673),\n",
       "  np.float64(0.6213928461074829),\n",
       "  np.float64(0.712194561958313),\n",
       "  np.float64(0.5494765639305115),\n",
       "  np.float64(0.8402894735336304),\n",
       "  np.float64(0.8603723645210266)],\n",
       " 'surprise': [np.float64(0.9671575427055359),\n",
       "  np.float64(0.1116902083158493),\n",
       "  np.float64(0.1116902083158493),\n",
       "  np.float64(0.1116902083158493),\n",
       "  np.float64(0.4758807420730591),\n",
       "  np.float64(0.1116902083158493),\n",
       "  np.float64(0.4080013930797577),\n",
       "  np.float64(0.8202825784683228),\n",
       "  np.float64(0.35445988178253174),\n",
       "  np.float64(0.1116902083158493)],\n",
       " 'neutral': [np.float64(0.7296029329299927),\n",
       "  np.float64(0.25254499912261963),\n",
       "  np.float64(0.07876555621623993),\n",
       "  np.float64(0.07876555621623993),\n",
       "  np.float64(0.07876555621623993),\n",
       "  np.float64(0.2719026505947113),\n",
       "  np.float64(0.07876555621623993),\n",
       "  np.float64(0.2344876527786255),\n",
       "  np.float64(0.13561391830444336),\n",
       "  np.float64(0.07876555621623993)]}"
      ]
     },
     "execution_count": 24,
     "metadata": {},
     "output_type": "execute_result"
    }
   ],
   "execution_count": 24
  },
  {
   "metadata": {
    "ExecuteTime": {
     "end_time": "2025-04-29T10:37:57.268145Z",
     "start_time": "2025-04-29T10:35:55.778387Z"
    }
   },
   "cell_type": "code",
   "source": [
    "from tqdm import tqdm\n",
    "\n",
    "emotion_labels = [\"anger\", \"disgust\", \"fear\", \"joy\", \"sadness\", \"surprise\", \"neutral\"] # cols of new df\n",
    "isbn = [] # key for merging to df\n",
    "emotions_scores = {label: [] for label in emotion_labels}    # Extract all scores for every desc. for each label\n",
    "\n",
    "# All books\n",
    "for i in tqdm(range(len(books))):\n",
    "    isbn.append(books[\"isbn13\"][i])  # add individual isbns of each book to the list\n",
    "    sentences = books[\"description\"][i].split(\".\")  # Split descs. into sentences\n",
    "    predictions = classifier(sentences)\n",
    "    max_scores = calculate_max_emotion_score(predictions)\n",
    "\n",
    "    for label in emotion_labels:\n",
    "        emotions_scores[label].append(max_scores[label])"
   ],
   "id": "9a129487bc3b9fde",
   "outputs": [
    {
     "name": "stderr",
     "output_type": "stream",
     "text": [
      "100%|██████████| 5197/5197 [02:01<00:00, 42.78it/s]\n"
     ]
    }
   ],
   "execution_count": 25
  },
  {
   "metadata": {
    "ExecuteTime": {
     "end_time": "2025-04-29T10:39:53.325067Z",
     "start_time": "2025-04-29T10:39:53.310714Z"
    }
   },
   "cell_type": "code",
   "source": [
    "# Pass the results into a pandas df\n",
    "emotions_df = pd.DataFrame(emotions_scores)\n",
    "\n",
    "#  Create a separate col for isbn\n",
    "emotions_df[\"isbn13\"] = isbn"
   ],
   "id": "a24ec05f834012cd",
   "outputs": [],
   "execution_count": 26
  },
  {
   "metadata": {
    "ExecuteTime": {
     "end_time": "2025-04-29T10:40:01.097147Z",
     "start_time": "2025-04-29T10:40:01.072025Z"
    }
   },
   "cell_type": "code",
   "source": "emotions_df",
   "id": "fcbc1cf4763cd092",
   "outputs": [
    {
     "data": {
      "text/plain": [
       "         anger   disgust      fear       joy   sadness  surprise   neutral  \\\n",
       "0     0.064134  0.273592  0.928169  0.932798  0.646216  0.967158  0.729603   \n",
       "1     0.612619  0.348285  0.942528  0.704422  0.887940  0.111690  0.252545   \n",
       "2     0.064134  0.104007  0.972321  0.767237  0.549477  0.111690  0.078766   \n",
       "3     0.351483  0.150722  0.360707  0.251881  0.732685  0.111690  0.078766   \n",
       "4     0.081412  0.184496  0.095043  0.040564  0.884390  0.475881  0.078766   \n",
       "...        ...       ...       ...       ...       ...       ...       ...   \n",
       "5192  0.148208  0.030643  0.919165  0.255170  0.853722  0.980877  0.030656   \n",
       "5193  0.064134  0.114383  0.051363  0.400263  0.883198  0.111690  0.227765   \n",
       "5194  0.009997  0.009929  0.339218  0.947779  0.375755  0.066685  0.057625   \n",
       "5195  0.064134  0.104007  0.459269  0.759456  0.951104  0.368111  0.078766   \n",
       "5196  0.064134  0.104007  0.051363  0.958549  0.915193  0.111690  0.078766   \n",
       "\n",
       "             isbn13  \n",
       "0     9780002005883  \n",
       "1     9780002261982  \n",
       "2     9780006178736  \n",
       "3     9780006280897  \n",
       "4     9780006280934  \n",
       "...             ...  \n",
       "5192  9788172235222  \n",
       "5193  9788173031014  \n",
       "5194  9788179921623  \n",
       "5195  9788185300535  \n",
       "5196  9789027712059  \n",
       "\n",
       "[5197 rows x 8 columns]"
      ],
      "text/html": [
       "<div>\n",
       "<style scoped>\n",
       "    .dataframe tbody tr th:only-of-type {\n",
       "        vertical-align: middle;\n",
       "    }\n",
       "\n",
       "    .dataframe tbody tr th {\n",
       "        vertical-align: top;\n",
       "    }\n",
       "\n",
       "    .dataframe thead th {\n",
       "        text-align: right;\n",
       "    }\n",
       "</style>\n",
       "<table border=\"1\" class=\"dataframe\">\n",
       "  <thead>\n",
       "    <tr style=\"text-align: right;\">\n",
       "      <th></th>\n",
       "      <th>anger</th>\n",
       "      <th>disgust</th>\n",
       "      <th>fear</th>\n",
       "      <th>joy</th>\n",
       "      <th>sadness</th>\n",
       "      <th>surprise</th>\n",
       "      <th>neutral</th>\n",
       "      <th>isbn13</th>\n",
       "    </tr>\n",
       "  </thead>\n",
       "  <tbody>\n",
       "    <tr>\n",
       "      <th>0</th>\n",
       "      <td>0.064134</td>\n",
       "      <td>0.273592</td>\n",
       "      <td>0.928169</td>\n",
       "      <td>0.932798</td>\n",
       "      <td>0.646216</td>\n",
       "      <td>0.967158</td>\n",
       "      <td>0.729603</td>\n",
       "      <td>9780002005883</td>\n",
       "    </tr>\n",
       "    <tr>\n",
       "      <th>1</th>\n",
       "      <td>0.612619</td>\n",
       "      <td>0.348285</td>\n",
       "      <td>0.942528</td>\n",
       "      <td>0.704422</td>\n",
       "      <td>0.887940</td>\n",
       "      <td>0.111690</td>\n",
       "      <td>0.252545</td>\n",
       "      <td>9780002261982</td>\n",
       "    </tr>\n",
       "    <tr>\n",
       "      <th>2</th>\n",
       "      <td>0.064134</td>\n",
       "      <td>0.104007</td>\n",
       "      <td>0.972321</td>\n",
       "      <td>0.767237</td>\n",
       "      <td>0.549477</td>\n",
       "      <td>0.111690</td>\n",
       "      <td>0.078766</td>\n",
       "      <td>9780006178736</td>\n",
       "    </tr>\n",
       "    <tr>\n",
       "      <th>3</th>\n",
       "      <td>0.351483</td>\n",
       "      <td>0.150722</td>\n",
       "      <td>0.360707</td>\n",
       "      <td>0.251881</td>\n",
       "      <td>0.732685</td>\n",
       "      <td>0.111690</td>\n",
       "      <td>0.078766</td>\n",
       "      <td>9780006280897</td>\n",
       "    </tr>\n",
       "    <tr>\n",
       "      <th>4</th>\n",
       "      <td>0.081412</td>\n",
       "      <td>0.184496</td>\n",
       "      <td>0.095043</td>\n",
       "      <td>0.040564</td>\n",
       "      <td>0.884390</td>\n",
       "      <td>0.475881</td>\n",
       "      <td>0.078766</td>\n",
       "      <td>9780006280934</td>\n",
       "    </tr>\n",
       "    <tr>\n",
       "      <th>...</th>\n",
       "      <td>...</td>\n",
       "      <td>...</td>\n",
       "      <td>...</td>\n",
       "      <td>...</td>\n",
       "      <td>...</td>\n",
       "      <td>...</td>\n",
       "      <td>...</td>\n",
       "      <td>...</td>\n",
       "    </tr>\n",
       "    <tr>\n",
       "      <th>5192</th>\n",
       "      <td>0.148208</td>\n",
       "      <td>0.030643</td>\n",
       "      <td>0.919165</td>\n",
       "      <td>0.255170</td>\n",
       "      <td>0.853722</td>\n",
       "      <td>0.980877</td>\n",
       "      <td>0.030656</td>\n",
       "      <td>9788172235222</td>\n",
       "    </tr>\n",
       "    <tr>\n",
       "      <th>5193</th>\n",
       "      <td>0.064134</td>\n",
       "      <td>0.114383</td>\n",
       "      <td>0.051363</td>\n",
       "      <td>0.400263</td>\n",
       "      <td>0.883198</td>\n",
       "      <td>0.111690</td>\n",
       "      <td>0.227765</td>\n",
       "      <td>9788173031014</td>\n",
       "    </tr>\n",
       "    <tr>\n",
       "      <th>5194</th>\n",
       "      <td>0.009997</td>\n",
       "      <td>0.009929</td>\n",
       "      <td>0.339218</td>\n",
       "      <td>0.947779</td>\n",
       "      <td>0.375755</td>\n",
       "      <td>0.066685</td>\n",
       "      <td>0.057625</td>\n",
       "      <td>9788179921623</td>\n",
       "    </tr>\n",
       "    <tr>\n",
       "      <th>5195</th>\n",
       "      <td>0.064134</td>\n",
       "      <td>0.104007</td>\n",
       "      <td>0.459269</td>\n",
       "      <td>0.759456</td>\n",
       "      <td>0.951104</td>\n",
       "      <td>0.368111</td>\n",
       "      <td>0.078766</td>\n",
       "      <td>9788185300535</td>\n",
       "    </tr>\n",
       "    <tr>\n",
       "      <th>5196</th>\n",
       "      <td>0.064134</td>\n",
       "      <td>0.104007</td>\n",
       "      <td>0.051363</td>\n",
       "      <td>0.958549</td>\n",
       "      <td>0.915193</td>\n",
       "      <td>0.111690</td>\n",
       "      <td>0.078766</td>\n",
       "      <td>9789027712059</td>\n",
       "    </tr>\n",
       "  </tbody>\n",
       "</table>\n",
       "<p>5197 rows × 8 columns</p>\n",
       "</div>"
      ]
     },
     "execution_count": 27,
     "metadata": {},
     "output_type": "execute_result"
    }
   ],
   "execution_count": 27
  },
  {
   "metadata": {},
   "cell_type": "markdown",
   "source": "- We now see in our df , we got separate cols for each emotion category, with max probs for each desc.",
   "id": "d8081db199f0fcd0"
  },
  {
   "metadata": {
    "ExecuteTime": {
     "end_time": "2025-04-29T10:42:50.733074Z",
     "start_time": "2025-04-29T10:42:50.709267Z"
    }
   },
   "cell_type": "code",
   "source": [
    "# Merge the results to our original books df\n",
    "books = pd.merge(books, emotions_df, on=\"isbn13\")"
   ],
   "id": "c3d674d5986a5ea7",
   "outputs": [],
   "execution_count": 28
  },
  {
   "metadata": {
    "ExecuteTime": {
     "end_time": "2025-04-29T10:42:53.635727Z",
     "start_time": "2025-04-29T10:42:53.618778Z"
    }
   },
   "cell_type": "code",
   "source": "books",
   "id": "8c569549b131a963",
   "outputs": [
    {
     "data": {
      "text/plain": [
       "             isbn13      isbn10  \\\n",
       "0     9780002005883  0002005883   \n",
       "1     9780002261982  0002261987   \n",
       "2     9780006178736  0006178731   \n",
       "3     9780006280897  0006280897   \n",
       "4     9780006280934  0006280935   \n",
       "...             ...         ...   \n",
       "5192  9788172235222  8172235224   \n",
       "5193  9788173031014  8173031010   \n",
       "5194  9788179921623  817992162X   \n",
       "5195  9788185300535  8185300534   \n",
       "5196  9789027712059  9027712050   \n",
       "\n",
       "                                                  title  \\\n",
       "0                                                Gilead   \n",
       "1                                          Spider's Web   \n",
       "2                                        Rage of angels   \n",
       "3                                        The Four Loves   \n",
       "4                                   The Problem of Pain   \n",
       "...                                                 ...   \n",
       "5192                                  Mistaken Identity   \n",
       "5193                                Journey to the East   \n",
       "5194  The Monk Who Sold His Ferrari: A Fable About F...   \n",
       "5195                                          I Am that   \n",
       "5196                           The Berlin Phenomenology   \n",
       "\n",
       "                                           authors  \\\n",
       "0                               Marilynne Robinson   \n",
       "1                  Charles Osborne;Agatha Christie   \n",
       "2                                   Sidney Sheldon   \n",
       "3                              Clive Staples Lewis   \n",
       "4                              Clive Staples Lewis   \n",
       "...                                            ...   \n",
       "5192                              Nayantara Sahgal   \n",
       "5193                                 Hermann Hesse   \n",
       "5194                                  Robin Sharma   \n",
       "5195  Sri Nisargadatta Maharaj;Sudhakar S. Dikshit   \n",
       "5196                 Georg Wilhelm Friedrich Hegel   \n",
       "\n",
       "                         categories  \\\n",
       "0                           Fiction   \n",
       "1     Detective and mystery stories   \n",
       "2                           Fiction   \n",
       "3                    Christian life   \n",
       "4                    Christian life   \n",
       "...                             ...   \n",
       "5192        Indic fiction (English)   \n",
       "5193              Adventure stories   \n",
       "5194               Health & Fitness   \n",
       "5195                     Philosophy   \n",
       "5196                        History   \n",
       "\n",
       "                                              thumbnail  \\\n",
       "0     http://books.google.com/books/content?id=KQZCP...   \n",
       "1     http://books.google.com/books/content?id=gA5GP...   \n",
       "2     http://books.google.com/books/content?id=FKo2T...   \n",
       "3     http://books.google.com/books/content?id=XhQ5X...   \n",
       "4     http://books.google.com/books/content?id=Kk-uV...   \n",
       "...                                                 ...   \n",
       "5192  http://books.google.com/books/content?id=q-tKP...   \n",
       "5193  http://books.google.com/books/content?id=rq6JP...   \n",
       "5194  http://books.google.com/books/content?id=c_7mf...   \n",
       "5195  http://books.google.com/books/content?id=Fv_JP...   \n",
       "5196  http://books.google.com/books/content?id=Vy7Sk...   \n",
       "\n",
       "                                            description  published_year  \\\n",
       "0     A NOVEL THAT READERS and critics have been eag...          2004.0   \n",
       "1     A new 'Christie for Christmas' -- a full-lengt...          2000.0   \n",
       "2     A memorable, mesmerizing heroine Jennifer -- b...          1993.0   \n",
       "3     Lewis' work on the nature of love divides love...          2002.0   \n",
       "4     \"In The Problem of Pain, C.S. Lewis, one of th...          2002.0   \n",
       "...                                                 ...             ...   \n",
       "5192  On A Train Journey Home To North India After L...          2003.0   \n",
       "5193  This book tells the tale of a man who goes on ...          2002.0   \n",
       "5194  Wisdom to Create a Life of Passion, Purpose, a...          2003.0   \n",
       "5195  This collection of the timeless teachings of o...          1999.0   \n",
       "5196  Since the three volume edition ofHegel's Philo...          1981.0   \n",
       "\n",
       "      average_rating  num_pages  ...  \\\n",
       "0               3.85      247.0  ...   \n",
       "1               3.83      241.0  ...   \n",
       "2               3.93      512.0  ...   \n",
       "3               4.15      170.0  ...   \n",
       "4               4.09      176.0  ...   \n",
       "...              ...        ...  ...   \n",
       "5192            2.93      324.0  ...   \n",
       "5193            3.70      175.0  ...   \n",
       "5194            3.82      198.0  ...   \n",
       "5195            4.51      531.0  ...   \n",
       "5196            0.00      210.0  ...   \n",
       "\n",
       "                                     title_and_subtitle  \\\n",
       "0                                                Gilead   \n",
       "1                                 Spider's Web: A Novel   \n",
       "2                                        Rage of angels   \n",
       "3                                        The Four Loves   \n",
       "4                                   The Problem of Pain   \n",
       "...                                                 ...   \n",
       "5192                                  Mistaken Identity   \n",
       "5193                                Journey to the East   \n",
       "5194  The Monk Who Sold His Ferrari: A Fable About F...   \n",
       "5195     I Am that: Talks with Sri Nisargadatta Maharaj   \n",
       "5196                           The Berlin Phenomenology   \n",
       "\n",
       "                                     tagged_description simple_categories  \\\n",
       "0     9780002005883 A NOVEL THAT READERS and critics...           Fiction   \n",
       "1     9780002261982 A new 'Christie for Christmas' -...           Fiction   \n",
       "2     9780006178736 A memorable, mesmerizing heroine...           Fiction   \n",
       "3     9780006280897 Lewis' work on the nature of lov...        Nonfiction   \n",
       "4     9780006280934 \"In The Problem of Pain, C.S. Le...        Nonfiction   \n",
       "...                                                 ...               ...   \n",
       "5192  9788172235222 On A Train Journey Home To North...           Fiction   \n",
       "5193  9788173031014 This book tells the tale of a ma...        Nonfiction   \n",
       "5194  9788179921623 Wisdom to Create a Life of Passi...           Fiction   \n",
       "5195  9788185300535 This collection of the timeless ...        Nonfiction   \n",
       "5196  9789027712059 Since the three volume edition o...        Nonfiction   \n",
       "\n",
       "         anger   disgust      fear       joy   sadness  surprise   neutral  \n",
       "0     0.064134  0.273592  0.928169  0.932798  0.646216  0.967158  0.729603  \n",
       "1     0.612619  0.348285  0.942528  0.704422  0.887940  0.111690  0.252545  \n",
       "2     0.064134  0.104007  0.972321  0.767237  0.549477  0.111690  0.078766  \n",
       "3     0.351483  0.150722  0.360707  0.251881  0.732685  0.111690  0.078766  \n",
       "4     0.081412  0.184496  0.095043  0.040564  0.884390  0.475881  0.078766  \n",
       "...        ...       ...       ...       ...       ...       ...       ...  \n",
       "5192  0.148208  0.030643  0.919165  0.255170  0.853722  0.980877  0.030656  \n",
       "5193  0.064134  0.114383  0.051363  0.400263  0.883198  0.111690  0.227765  \n",
       "5194  0.009997  0.009929  0.339218  0.947779  0.375755  0.066685  0.057625  \n",
       "5195  0.064134  0.104007  0.459269  0.759456  0.951104  0.368111  0.078766  \n",
       "5196  0.064134  0.104007  0.051363  0.958549  0.915193  0.111690  0.078766  \n",
       "\n",
       "[5197 rows x 21 columns]"
      ],
      "text/html": [
       "<div>\n",
       "<style scoped>\n",
       "    .dataframe tbody tr th:only-of-type {\n",
       "        vertical-align: middle;\n",
       "    }\n",
       "\n",
       "    .dataframe tbody tr th {\n",
       "        vertical-align: top;\n",
       "    }\n",
       "\n",
       "    .dataframe thead th {\n",
       "        text-align: right;\n",
       "    }\n",
       "</style>\n",
       "<table border=\"1\" class=\"dataframe\">\n",
       "  <thead>\n",
       "    <tr style=\"text-align: right;\">\n",
       "      <th></th>\n",
       "      <th>isbn13</th>\n",
       "      <th>isbn10</th>\n",
       "      <th>title</th>\n",
       "      <th>authors</th>\n",
       "      <th>categories</th>\n",
       "      <th>thumbnail</th>\n",
       "      <th>description</th>\n",
       "      <th>published_year</th>\n",
       "      <th>average_rating</th>\n",
       "      <th>num_pages</th>\n",
       "      <th>...</th>\n",
       "      <th>title_and_subtitle</th>\n",
       "      <th>tagged_description</th>\n",
       "      <th>simple_categories</th>\n",
       "      <th>anger</th>\n",
       "      <th>disgust</th>\n",
       "      <th>fear</th>\n",
       "      <th>joy</th>\n",
       "      <th>sadness</th>\n",
       "      <th>surprise</th>\n",
       "      <th>neutral</th>\n",
       "    </tr>\n",
       "  </thead>\n",
       "  <tbody>\n",
       "    <tr>\n",
       "      <th>0</th>\n",
       "      <td>9780002005883</td>\n",
       "      <td>0002005883</td>\n",
       "      <td>Gilead</td>\n",
       "      <td>Marilynne Robinson</td>\n",
       "      <td>Fiction</td>\n",
       "      <td>http://books.google.com/books/content?id=KQZCP...</td>\n",
       "      <td>A NOVEL THAT READERS and critics have been eag...</td>\n",
       "      <td>2004.0</td>\n",
       "      <td>3.85</td>\n",
       "      <td>247.0</td>\n",
       "      <td>...</td>\n",
       "      <td>Gilead</td>\n",
       "      <td>9780002005883 A NOVEL THAT READERS and critics...</td>\n",
       "      <td>Fiction</td>\n",
       "      <td>0.064134</td>\n",
       "      <td>0.273592</td>\n",
       "      <td>0.928169</td>\n",
       "      <td>0.932798</td>\n",
       "      <td>0.646216</td>\n",
       "      <td>0.967158</td>\n",
       "      <td>0.729603</td>\n",
       "    </tr>\n",
       "    <tr>\n",
       "      <th>1</th>\n",
       "      <td>9780002261982</td>\n",
       "      <td>0002261987</td>\n",
       "      <td>Spider's Web</td>\n",
       "      <td>Charles Osborne;Agatha Christie</td>\n",
       "      <td>Detective and mystery stories</td>\n",
       "      <td>http://books.google.com/books/content?id=gA5GP...</td>\n",
       "      <td>A new 'Christie for Christmas' -- a full-lengt...</td>\n",
       "      <td>2000.0</td>\n",
       "      <td>3.83</td>\n",
       "      <td>241.0</td>\n",
       "      <td>...</td>\n",
       "      <td>Spider's Web: A Novel</td>\n",
       "      <td>9780002261982 A new 'Christie for Christmas' -...</td>\n",
       "      <td>Fiction</td>\n",
       "      <td>0.612619</td>\n",
       "      <td>0.348285</td>\n",
       "      <td>0.942528</td>\n",
       "      <td>0.704422</td>\n",
       "      <td>0.887940</td>\n",
       "      <td>0.111690</td>\n",
       "      <td>0.252545</td>\n",
       "    </tr>\n",
       "    <tr>\n",
       "      <th>2</th>\n",
       "      <td>9780006178736</td>\n",
       "      <td>0006178731</td>\n",
       "      <td>Rage of angels</td>\n",
       "      <td>Sidney Sheldon</td>\n",
       "      <td>Fiction</td>\n",
       "      <td>http://books.google.com/books/content?id=FKo2T...</td>\n",
       "      <td>A memorable, mesmerizing heroine Jennifer -- b...</td>\n",
       "      <td>1993.0</td>\n",
       "      <td>3.93</td>\n",
       "      <td>512.0</td>\n",
       "      <td>...</td>\n",
       "      <td>Rage of angels</td>\n",
       "      <td>9780006178736 A memorable, mesmerizing heroine...</td>\n",
       "      <td>Fiction</td>\n",
       "      <td>0.064134</td>\n",
       "      <td>0.104007</td>\n",
       "      <td>0.972321</td>\n",
       "      <td>0.767237</td>\n",
       "      <td>0.549477</td>\n",
       "      <td>0.111690</td>\n",
       "      <td>0.078766</td>\n",
       "    </tr>\n",
       "    <tr>\n",
       "      <th>3</th>\n",
       "      <td>9780006280897</td>\n",
       "      <td>0006280897</td>\n",
       "      <td>The Four Loves</td>\n",
       "      <td>Clive Staples Lewis</td>\n",
       "      <td>Christian life</td>\n",
       "      <td>http://books.google.com/books/content?id=XhQ5X...</td>\n",
       "      <td>Lewis' work on the nature of love divides love...</td>\n",
       "      <td>2002.0</td>\n",
       "      <td>4.15</td>\n",
       "      <td>170.0</td>\n",
       "      <td>...</td>\n",
       "      <td>The Four Loves</td>\n",
       "      <td>9780006280897 Lewis' work on the nature of lov...</td>\n",
       "      <td>Nonfiction</td>\n",
       "      <td>0.351483</td>\n",
       "      <td>0.150722</td>\n",
       "      <td>0.360707</td>\n",
       "      <td>0.251881</td>\n",
       "      <td>0.732685</td>\n",
       "      <td>0.111690</td>\n",
       "      <td>0.078766</td>\n",
       "    </tr>\n",
       "    <tr>\n",
       "      <th>4</th>\n",
       "      <td>9780006280934</td>\n",
       "      <td>0006280935</td>\n",
       "      <td>The Problem of Pain</td>\n",
       "      <td>Clive Staples Lewis</td>\n",
       "      <td>Christian life</td>\n",
       "      <td>http://books.google.com/books/content?id=Kk-uV...</td>\n",
       "      <td>\"In The Problem of Pain, C.S. Lewis, one of th...</td>\n",
       "      <td>2002.0</td>\n",
       "      <td>4.09</td>\n",
       "      <td>176.0</td>\n",
       "      <td>...</td>\n",
       "      <td>The Problem of Pain</td>\n",
       "      <td>9780006280934 \"In The Problem of Pain, C.S. Le...</td>\n",
       "      <td>Nonfiction</td>\n",
       "      <td>0.081412</td>\n",
       "      <td>0.184496</td>\n",
       "      <td>0.095043</td>\n",
       "      <td>0.040564</td>\n",
       "      <td>0.884390</td>\n",
       "      <td>0.475881</td>\n",
       "      <td>0.078766</td>\n",
       "    </tr>\n",
       "    <tr>\n",
       "      <th>...</th>\n",
       "      <td>...</td>\n",
       "      <td>...</td>\n",
       "      <td>...</td>\n",
       "      <td>...</td>\n",
       "      <td>...</td>\n",
       "      <td>...</td>\n",
       "      <td>...</td>\n",
       "      <td>...</td>\n",
       "      <td>...</td>\n",
       "      <td>...</td>\n",
       "      <td>...</td>\n",
       "      <td>...</td>\n",
       "      <td>...</td>\n",
       "      <td>...</td>\n",
       "      <td>...</td>\n",
       "      <td>...</td>\n",
       "      <td>...</td>\n",
       "      <td>...</td>\n",
       "      <td>...</td>\n",
       "      <td>...</td>\n",
       "      <td>...</td>\n",
       "    </tr>\n",
       "    <tr>\n",
       "      <th>5192</th>\n",
       "      <td>9788172235222</td>\n",
       "      <td>8172235224</td>\n",
       "      <td>Mistaken Identity</td>\n",
       "      <td>Nayantara Sahgal</td>\n",
       "      <td>Indic fiction (English)</td>\n",
       "      <td>http://books.google.com/books/content?id=q-tKP...</td>\n",
       "      <td>On A Train Journey Home To North India After L...</td>\n",
       "      <td>2003.0</td>\n",
       "      <td>2.93</td>\n",
       "      <td>324.0</td>\n",
       "      <td>...</td>\n",
       "      <td>Mistaken Identity</td>\n",
       "      <td>9788172235222 On A Train Journey Home To North...</td>\n",
       "      <td>Fiction</td>\n",
       "      <td>0.148208</td>\n",
       "      <td>0.030643</td>\n",
       "      <td>0.919165</td>\n",
       "      <td>0.255170</td>\n",
       "      <td>0.853722</td>\n",
       "      <td>0.980877</td>\n",
       "      <td>0.030656</td>\n",
       "    </tr>\n",
       "    <tr>\n",
       "      <th>5193</th>\n",
       "      <td>9788173031014</td>\n",
       "      <td>8173031010</td>\n",
       "      <td>Journey to the East</td>\n",
       "      <td>Hermann Hesse</td>\n",
       "      <td>Adventure stories</td>\n",
       "      <td>http://books.google.com/books/content?id=rq6JP...</td>\n",
       "      <td>This book tells the tale of a man who goes on ...</td>\n",
       "      <td>2002.0</td>\n",
       "      <td>3.70</td>\n",
       "      <td>175.0</td>\n",
       "      <td>...</td>\n",
       "      <td>Journey to the East</td>\n",
       "      <td>9788173031014 This book tells the tale of a ma...</td>\n",
       "      <td>Nonfiction</td>\n",
       "      <td>0.064134</td>\n",
       "      <td>0.114383</td>\n",
       "      <td>0.051363</td>\n",
       "      <td>0.400263</td>\n",
       "      <td>0.883198</td>\n",
       "      <td>0.111690</td>\n",
       "      <td>0.227765</td>\n",
       "    </tr>\n",
       "    <tr>\n",
       "      <th>5194</th>\n",
       "      <td>9788179921623</td>\n",
       "      <td>817992162X</td>\n",
       "      <td>The Monk Who Sold His Ferrari: A Fable About F...</td>\n",
       "      <td>Robin Sharma</td>\n",
       "      <td>Health &amp; Fitness</td>\n",
       "      <td>http://books.google.com/books/content?id=c_7mf...</td>\n",
       "      <td>Wisdom to Create a Life of Passion, Purpose, a...</td>\n",
       "      <td>2003.0</td>\n",
       "      <td>3.82</td>\n",
       "      <td>198.0</td>\n",
       "      <td>...</td>\n",
       "      <td>The Monk Who Sold His Ferrari: A Fable About F...</td>\n",
       "      <td>9788179921623 Wisdom to Create a Life of Passi...</td>\n",
       "      <td>Fiction</td>\n",
       "      <td>0.009997</td>\n",
       "      <td>0.009929</td>\n",
       "      <td>0.339218</td>\n",
       "      <td>0.947779</td>\n",
       "      <td>0.375755</td>\n",
       "      <td>0.066685</td>\n",
       "      <td>0.057625</td>\n",
       "    </tr>\n",
       "    <tr>\n",
       "      <th>5195</th>\n",
       "      <td>9788185300535</td>\n",
       "      <td>8185300534</td>\n",
       "      <td>I Am that</td>\n",
       "      <td>Sri Nisargadatta Maharaj;Sudhakar S. Dikshit</td>\n",
       "      <td>Philosophy</td>\n",
       "      <td>http://books.google.com/books/content?id=Fv_JP...</td>\n",
       "      <td>This collection of the timeless teachings of o...</td>\n",
       "      <td>1999.0</td>\n",
       "      <td>4.51</td>\n",
       "      <td>531.0</td>\n",
       "      <td>...</td>\n",
       "      <td>I Am that: Talks with Sri Nisargadatta Maharaj</td>\n",
       "      <td>9788185300535 This collection of the timeless ...</td>\n",
       "      <td>Nonfiction</td>\n",
       "      <td>0.064134</td>\n",
       "      <td>0.104007</td>\n",
       "      <td>0.459269</td>\n",
       "      <td>0.759456</td>\n",
       "      <td>0.951104</td>\n",
       "      <td>0.368111</td>\n",
       "      <td>0.078766</td>\n",
       "    </tr>\n",
       "    <tr>\n",
       "      <th>5196</th>\n",
       "      <td>9789027712059</td>\n",
       "      <td>9027712050</td>\n",
       "      <td>The Berlin Phenomenology</td>\n",
       "      <td>Georg Wilhelm Friedrich Hegel</td>\n",
       "      <td>History</td>\n",
       "      <td>http://books.google.com/books/content?id=Vy7Sk...</td>\n",
       "      <td>Since the three volume edition ofHegel's Philo...</td>\n",
       "      <td>1981.0</td>\n",
       "      <td>0.00</td>\n",
       "      <td>210.0</td>\n",
       "      <td>...</td>\n",
       "      <td>The Berlin Phenomenology</td>\n",
       "      <td>9789027712059 Since the three volume edition o...</td>\n",
       "      <td>Nonfiction</td>\n",
       "      <td>0.064134</td>\n",
       "      <td>0.104007</td>\n",
       "      <td>0.051363</td>\n",
       "      <td>0.958549</td>\n",
       "      <td>0.915193</td>\n",
       "      <td>0.111690</td>\n",
       "      <td>0.078766</td>\n",
       "    </tr>\n",
       "  </tbody>\n",
       "</table>\n",
       "<p>5197 rows × 21 columns</p>\n",
       "</div>"
      ]
     },
     "execution_count": 29,
     "metadata": {},
     "output_type": "execute_result"
    }
   ],
   "execution_count": 29
  },
  {
   "metadata": {
    "ExecuteTime": {
     "end_time": "2025-04-29T10:44:51.870286Z",
     "start_time": "2025-04-29T10:44:51.732706Z"
    }
   },
   "cell_type": "code",
   "source": "books.to_csv(\"books_with_emotion_final_df.csv\", index=False)",
   "id": "80666b57de9d31f5",
   "outputs": [],
   "execution_count": 30
  },
  {
   "metadata": {},
   "cell_type": "code",
   "outputs": [],
   "execution_count": null,
   "source": "",
   "id": "9e52532f7ad72f16"
  }
 ],
 "metadata": {
  "kernelspec": {
   "display_name": "Python 3",
   "language": "python",
   "name": "python3"
  },
  "language_info": {
   "codemirror_mode": {
    "name": "ipython",
    "version": 2
   },
   "file_extension": ".py",
   "mimetype": "text/x-python",
   "name": "python",
   "nbconvert_exporter": "python",
   "pygments_lexer": "ipython2",
   "version": "2.7.6"
  }
 },
 "nbformat": 4,
 "nbformat_minor": 5
}
